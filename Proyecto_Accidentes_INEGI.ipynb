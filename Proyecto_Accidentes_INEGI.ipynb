{
 "cells": [
  {
   "cell_type": "markdown",
   "id": "37a1e334",
   "metadata": {},
   "source": [
    "\n",
    "# Análisis de Accidentes Viales en México 🚗📊\n",
    "Este proyecto analiza accidentes viales utilizando un dataset simulado basado en datos del INEGI.\n"
   ]
  },
  {
   "cell_type": "code",
   "execution_count": null,
   "id": "3a662302",
   "metadata": {},
   "outputs": [],
   "source": [
    "\n",
    "!pip install pymongo seaborn plotly pandas\n"
   ]
  },
  {
   "cell_type": "code",
   "execution_count": null,
   "id": "5eddc99e",
   "metadata": {},
   "outputs": [],
   "source": [
    "\n",
    "import pandas as pd\n",
    "import seaborn as sns\n",
    "import matplotlib.pyplot as plt\n",
    "import plotly.express as px\n",
    "from pymongo import MongoClient\n"
   ]
  },
  {
   "cell_type": "code",
   "execution_count": null,
   "id": "1b548cda",
   "metadata": {},
   "outputs": [],
   "source": [
    "\n",
    "from google.colab import files\n",
    "uploaded = files.upload()\n"
   ]
  },
  {
   "cell_type": "code",
   "execution_count": null,
   "id": "2ff103f9",
   "metadata": {},
   "outputs": [],
   "source": [
    "\n",
    "df = pd.read_csv(\"accidentes_simulados_inegi.csv\")\n",
    "df.head()\n"
   ]
  },
  {
   "cell_type": "code",
   "execution_count": null,
   "id": "2ca111d8",
   "metadata": {},
   "outputs": [],
   "source": [
    "\n",
    "df = df.dropna()\n",
    "df['fecha'] = pd.to_datetime(df['fecha'])\n",
    "df.info()\n"
   ]
  },
  {
   "cell_type": "code",
   "execution_count": null,
   "id": "8e13ed2f",
   "metadata": {},
   "outputs": [],
   "source": [
    "\n",
    "# Reemplaza con tu cadena de conexión de MongoDB Atlas\n",
    "cliente = MongoClient(\"mongodb+srv://<usuario>:<contraseña>@<cluster>.mongodb.net/?retryWrites=true&w=majority\")\n",
    "db = cliente[\"inegi\"]\n",
    "coleccion = db[\"accidentes\"]\n",
    "coleccion.insert_many(df.to_dict(orient='records'))\n",
    "print(\"Datos insertados en MongoDB con éxito.\")\n"
   ]
  },
  {
   "cell_type": "code",
   "execution_count": null,
   "id": "dd54fd05",
   "metadata": {},
   "outputs": [],
   "source": [
    "\n",
    "plt.figure(figsize=(10,6))\n",
    "top_estados = df['estado'].value_counts().head(10)\n",
    "sns.barplot(x=top_estados.values, y=top_estados.index, palette=\"Reds\")\n",
    "plt.title(\"Top 10 estados con más accidentes\")\n",
    "plt.xlabel(\"Accidentes\")\n",
    "plt.ylabel(\"Estado\")\n",
    "plt.show()\n"
   ]
  },
  {
   "cell_type": "code",
   "execution_count": null,
   "id": "85ad2041",
   "metadata": {},
   "outputs": [],
   "source": [
    "\n",
    "dias_ordenados = ['Lunes','Martes','Miércoles','Jueves','Viernes','Sábado','Domingo']\n",
    "df['dia'] = pd.Categorical(df['dia'], categories=dias_ordenados, ordered=True)\n",
    "plt.figure(figsize=(10,6))\n",
    "sns.countplot(data=df, x='dia', order=dias_ordenados, palette=\"Blues\")\n",
    "plt.title(\"Accidentes por día de la semana\")\n",
    "plt.xlabel(\"Día\")\n",
    "plt.ylabel(\"Cantidad\")\n",
    "plt.show()\n"
   ]
  },
  {
   "cell_type": "code",
   "execution_count": null,
   "id": "29c3d4c0",
   "metadata": {},
   "outputs": [],
   "source": [
    "\n",
    "plt.figure(figsize=(10,6))\n",
    "sns.countplot(data=df, y='tipo_accidente', order=df['tipo_accidente'].value_counts().index, palette=\"Greens\")\n",
    "plt.title(\"Tipo de accidente más frecuente\")\n",
    "plt.xlabel(\"Cantidad\")\n",
    "plt.ylabel(\"Tipo de accidente\")\n",
    "plt.show()\n"
   ]
  }
 ],
 "metadata": {},
 "nbformat": 4,
 "nbformat_minor": 5
}